{
 "cells": [
  {
   "cell_type": "markdown",
   "metadata": {},
   "source": [
    "### Heroes Of Pymoli Data Analysis\n",
    "\n",
    "* Even though the vast majority of players are male, female players have a higher average spend ($4.47) than male players ($4.07).\n",
    "\n",
    "* Even though the vast majority of players are in the 20-24 age group, players in the 35-39 age group have a higher average spend ($4.76) compared to ($4.32).\n",
    "\n",
    "* It's no surprise that the most popular item is also the most profitable.\n",
    "-----"
   ]
  },
  {
   "cell_type": "markdown",
   "metadata": {},
   "source": [
    "### Note\n",
    "* Instructions have been included for each segment. You do not have to follow them exactly, but they are included to help you think through the steps."
   ]
  },
  {
   "cell_type": "code",
   "execution_count": 87,
   "metadata": {},
   "outputs": [],
   "source": [
    "# Dependencies and Setup\n",
    "import pandas as pd\n",
    "\n",
    "# File to Load (Remember to Change These)\n",
    "file_to_load = \"Resources/purchase_data.csv\"\n",
    "\n",
    "# Read Purchasing File and store into Pandas data frame\n",
    "purchase_data = pd.read_csv(file_to_load)\n"
   ]
  },
  {
   "cell_type": "markdown",
   "metadata": {},
   "source": [
    "## Player Count"
   ]
  },
  {
   "cell_type": "markdown",
   "metadata": {},
   "source": [
    "* Display the total number of players\n"
   ]
  },
  {
   "cell_type": "code",
   "execution_count": 88,
   "metadata": {},
   "outputs": [
    {
     "data": {
      "text/html": [
       "<div>\n",
       "<style scoped>\n",
       "    .dataframe tbody tr th:only-of-type {\n",
       "        vertical-align: middle;\n",
       "    }\n",
       "\n",
       "    .dataframe tbody tr th {\n",
       "        vertical-align: top;\n",
       "    }\n",
       "\n",
       "    .dataframe thead th {\n",
       "        text-align: right;\n",
       "    }\n",
       "</style>\n",
       "<table border=\"1\" class=\"dataframe\">\n",
       "  <thead>\n",
       "    <tr style=\"text-align: right;\">\n",
       "      <th></th>\n",
       "      <th>Total Players</th>\n",
       "    </tr>\n",
       "  </thead>\n",
       "  <tbody>\n",
       "    <tr>\n",
       "      <th>0</th>\n",
       "      <td>576</td>\n",
       "    </tr>\n",
       "  </tbody>\n",
       "</table>\n",
       "</div>"
      ],
      "text/plain": [
       "   Total Players\n",
       "0            576"
      ]
     },
     "execution_count": 88,
     "metadata": {},
     "output_type": "execute_result"
    }
   ],
   "source": [
    "# Obtain number of players\n",
    "total_players = purchase_data['SN'].nunique()\n",
    "\n",
    "# Put result in a data frame\n",
    "total_players_df = pd.DataFrame({\"Total Players\" : [total_players]})\n",
    "\n",
    "# Display data frame\n",
    "total_players_df"
   ]
  },
  {
   "cell_type": "markdown",
   "metadata": {},
   "source": [
    "## Purchasing Analysis (Total)"
   ]
  },
  {
   "cell_type": "markdown",
   "metadata": {},
   "source": [
    "* Run basic calculations to obtain number of unique items, average price, etc.\n",
    "\n",
    "\n",
    "* Create a summary data frame to hold the results\n",
    "\n",
    "\n",
    "* Optional: give the displayed data cleaner formatting\n",
    "\n",
    "\n",
    "* Display the summary data frame\n"
   ]
  },
  {
   "cell_type": "code",
   "execution_count": 89,
   "metadata": {
    "scrolled": true
   },
   "outputs": [
    {
     "data": {
      "text/html": [
       "<style  type=\"text/css\" >\n",
       "</style><table id=\"T_90bfdf30_8786_11ea_854f_ac2b6ea1c709\" ><thead>    <tr>        <th class=\"blank level0\" ></th>        <th class=\"col_heading level0 col0\" >Number of Unique Items</th>        <th class=\"col_heading level0 col1\" >Average Purchase Price</th>        <th class=\"col_heading level0 col2\" >Total Number of Purchases</th>        <th class=\"col_heading level0 col3\" >Total Revenue</th>    </tr></thead><tbody>\n",
       "                <tr>\n",
       "                        <th id=\"T_90bfdf30_8786_11ea_854f_ac2b6ea1c709level0_row0\" class=\"row_heading level0 row0\" >0</th>\n",
       "                        <td id=\"T_90bfdf30_8786_11ea_854f_ac2b6ea1c709row0_col0\" class=\"data row0 col0\" >179</td>\n",
       "                        <td id=\"T_90bfdf30_8786_11ea_854f_ac2b6ea1c709row0_col1\" class=\"data row0 col1\" >$3.05</td>\n",
       "                        <td id=\"T_90bfdf30_8786_11ea_854f_ac2b6ea1c709row0_col2\" class=\"data row0 col2\" >780</td>\n",
       "                        <td id=\"T_90bfdf30_8786_11ea_854f_ac2b6ea1c709row0_col3\" class=\"data row0 col3\" >$2,379.77</td>\n",
       "            </tr>\n",
       "    </tbody></table>"
      ],
      "text/plain": [
       "<pandas.io.formats.style.Styler at 0x187052fbac8>"
      ]
     },
     "execution_count": 89,
     "metadata": {},
     "output_type": "execute_result"
    }
   ],
   "source": [
    "# Obtain number of unique items\n",
    "unique_items = purchase_data[\"Item ID\"].nunique()\n",
    "\n",
    "# Obtain average price of unique items\n",
    "average_price = purchase_data[\"Price\"].mean()\n",
    "\n",
    "# Obtain number of purchases made\n",
    "number_purchases = len(purchase_data[\"Purchase ID\"])\n",
    "\n",
    "# Obtain total dollar amount of purchases made\n",
    "dollar_purchases = purchase_data[\"Price\"].sum()\n",
    "\n",
    "# Put results in a data frame\n",
    "purchasing_df = pd.DataFrame({\n",
    "            \"Number of Unique Items\" : [unique_items],\n",
    "            \"Average Purchase Price\" : [average_price],\n",
    "            \"Total Number of Purchases\" : [number_purchases],\n",
    "            \"Total Revenue\" : [dollar_purchases]\n",
    "})\n",
    "\n",
    "# Display data frame with formatting\n",
    "purchasing_df.style.format({\"Average Purchase Price\" : \"${:.2f}\",\n",
    "                           \"Total Revenue\" : \"${:,.2f}\"})"
   ]
  },
  {
   "cell_type": "markdown",
   "metadata": {},
   "source": [
    "## Gender Demographics"
   ]
  },
  {
   "cell_type": "markdown",
   "metadata": {},
   "source": [
    "* Percentage and Count of Male Players\n",
    "\n",
    "\n",
    "* Percentage and Count of Female Players\n",
    "\n",
    "\n",
    "* Percentage and Count of Other / Non-Disclosed\n",
    "\n",
    "\n"
   ]
  },
  {
   "cell_type": "code",
   "execution_count": 90,
   "metadata": {},
   "outputs": [
    {
     "data": {
      "text/html": [
       "<style  type=\"text/css\" >\n",
       "</style><table id=\"T_917be56e_8786_11ea_a3bd_ac2b6ea1c709\" ><thead>    <tr>        <th class=\"blank level0\" ></th>        <th class=\"col_heading level0 col0\" >Total Count</th>        <th class=\"col_heading level0 col1\" >Percentage of Players</th>    </tr>    <tr>        <th class=\"index_name level0\" >Gender</th>        <th class=\"blank\" ></th>        <th class=\"blank\" ></th>    </tr></thead><tbody>\n",
       "                <tr>\n",
       "                        <th id=\"T_917be56e_8786_11ea_a3bd_ac2b6ea1c709level0_row0\" class=\"row_heading level0 row0\" >Female</th>\n",
       "                        <td id=\"T_917be56e_8786_11ea_a3bd_ac2b6ea1c709row0_col0\" class=\"data row0 col0\" >81</td>\n",
       "                        <td id=\"T_917be56e_8786_11ea_a3bd_ac2b6ea1c709row0_col1\" class=\"data row0 col1\" >14.06%</td>\n",
       "            </tr>\n",
       "            <tr>\n",
       "                        <th id=\"T_917be56e_8786_11ea_a3bd_ac2b6ea1c709level0_row1\" class=\"row_heading level0 row1\" >Male</th>\n",
       "                        <td id=\"T_917be56e_8786_11ea_a3bd_ac2b6ea1c709row1_col0\" class=\"data row1 col0\" >484</td>\n",
       "                        <td id=\"T_917be56e_8786_11ea_a3bd_ac2b6ea1c709row1_col1\" class=\"data row1 col1\" >84.03%</td>\n",
       "            </tr>\n",
       "            <tr>\n",
       "                        <th id=\"T_917be56e_8786_11ea_a3bd_ac2b6ea1c709level0_row2\" class=\"row_heading level0 row2\" >Other / Non-Disclosed</th>\n",
       "                        <td id=\"T_917be56e_8786_11ea_a3bd_ac2b6ea1c709row2_col0\" class=\"data row2 col0\" >11</td>\n",
       "                        <td id=\"T_917be56e_8786_11ea_a3bd_ac2b6ea1c709row2_col1\" class=\"data row2 col1\" >1.91%</td>\n",
       "            </tr>\n",
       "    </tbody></table>"
      ],
      "text/plain": [
       "<pandas.io.formats.style.Styler at 0x18705126988>"
      ]
     },
     "execution_count": 90,
     "metadata": {},
     "output_type": "execute_result"
    }
   ],
   "source": [
    "# Group purchase data by gender\n",
    "gender_group_df = purchase_data.groupby(['Gender'])\n",
    "\n",
    "# Obtain number of players by gender\n",
    "gender_count = gender_group_df['SN'].nunique()\n",
    "\n",
    "# Obtain percentage of players by gender\n",
    "gender_percent = gender_count/total_players*100\n",
    "\n",
    "# Put in a data frame\n",
    "gender_df = pd.DataFrame({\n",
    "            \"Total Count\" : gender_count,\n",
    "            \"Percentage of Players\" : gender_percent\n",
    "            })\n",
    "\n",
    "# Display data frame\n",
    "gender_df.style.format({\"Percentage of Players\" : \"{:.2f}%\"})"
   ]
  },
  {
   "cell_type": "markdown",
   "metadata": {},
   "source": [
    "\n",
    "## Purchasing Analysis (Gender)"
   ]
  },
  {
   "cell_type": "markdown",
   "metadata": {},
   "source": [
    "* Run basic calculations to obtain purchase count, avg. purchase price, avg. purchase total per person etc. by gender\n",
    "\n",
    "\n",
    "\n",
    "\n",
    "* Create a summary data frame to hold the results\n",
    "\n",
    "\n",
    "* Optional: give the displayed data cleaner formatting\n",
    "\n",
    "\n",
    "* Display the summary data frame"
   ]
  },
  {
   "cell_type": "code",
   "execution_count": 91,
   "metadata": {},
   "outputs": [
    {
     "data": {
      "text/html": [
       "<style  type=\"text/css\" >\n",
       "</style><table id=\"T_92331812_8786_11ea_8209_ac2b6ea1c709\" ><thead>    <tr>        <th class=\"blank level0\" ></th>        <th class=\"col_heading level0 col0\" >Purchase Count</th>        <th class=\"col_heading level0 col1\" >Average Purchase Price</th>        <th class=\"col_heading level0 col2\" >Total Purchase Value</th>        <th class=\"col_heading level0 col3\" >Avg Total Purchase per Person</th>    </tr>    <tr>        <th class=\"index_name level0\" >Gender</th>        <th class=\"blank\" ></th>        <th class=\"blank\" ></th>        <th class=\"blank\" ></th>        <th class=\"blank\" ></th>    </tr></thead><tbody>\n",
       "                <tr>\n",
       "                        <th id=\"T_92331812_8786_11ea_8209_ac2b6ea1c709level0_row0\" class=\"row_heading level0 row0\" >Female</th>\n",
       "                        <td id=\"T_92331812_8786_11ea_8209_ac2b6ea1c709row0_col0\" class=\"data row0 col0\" >113</td>\n",
       "                        <td id=\"T_92331812_8786_11ea_8209_ac2b6ea1c709row0_col1\" class=\"data row0 col1\" >$3.20</td>\n",
       "                        <td id=\"T_92331812_8786_11ea_8209_ac2b6ea1c709row0_col2\" class=\"data row0 col2\" >$361.94</td>\n",
       "                        <td id=\"T_92331812_8786_11ea_8209_ac2b6ea1c709row0_col3\" class=\"data row0 col3\" >$4.47</td>\n",
       "            </tr>\n",
       "            <tr>\n",
       "                        <th id=\"T_92331812_8786_11ea_8209_ac2b6ea1c709level0_row1\" class=\"row_heading level0 row1\" >Male</th>\n",
       "                        <td id=\"T_92331812_8786_11ea_8209_ac2b6ea1c709row1_col0\" class=\"data row1 col0\" >652</td>\n",
       "                        <td id=\"T_92331812_8786_11ea_8209_ac2b6ea1c709row1_col1\" class=\"data row1 col1\" >$3.02</td>\n",
       "                        <td id=\"T_92331812_8786_11ea_8209_ac2b6ea1c709row1_col2\" class=\"data row1 col2\" >$1,967.64</td>\n",
       "                        <td id=\"T_92331812_8786_11ea_8209_ac2b6ea1c709row1_col3\" class=\"data row1 col3\" >$4.07</td>\n",
       "            </tr>\n",
       "            <tr>\n",
       "                        <th id=\"T_92331812_8786_11ea_8209_ac2b6ea1c709level0_row2\" class=\"row_heading level0 row2\" >Other / Non-Disclosed</th>\n",
       "                        <td id=\"T_92331812_8786_11ea_8209_ac2b6ea1c709row2_col0\" class=\"data row2 col0\" >15</td>\n",
       "                        <td id=\"T_92331812_8786_11ea_8209_ac2b6ea1c709row2_col1\" class=\"data row2 col1\" >$3.35</td>\n",
       "                        <td id=\"T_92331812_8786_11ea_8209_ac2b6ea1c709row2_col2\" class=\"data row2 col2\" >$50.19</td>\n",
       "                        <td id=\"T_92331812_8786_11ea_8209_ac2b6ea1c709row2_col3\" class=\"data row2 col3\" >$4.56</td>\n",
       "            </tr>\n",
       "    </tbody></table>"
      ],
      "text/plain": [
       "<pandas.io.formats.style.Styler at 0x1870502f9c8>"
      ]
     },
     "execution_count": 91,
     "metadata": {},
     "output_type": "execute_result"
    }
   ],
   "source": [
    "# Obtain purchase count by gender\n",
    "purchase_count_gender = gender_group_df['Purchase ID'].count()\n",
    "\n",
    "# Obtain average purchase price by gender\n",
    "avg_purchaseprice_gender = gender_group_df['Price'].mean()\n",
    "\n",
    "# Obtain total purchased by gender\n",
    "total_purchase_gender = gender_group_df['Price'].sum()\n",
    "\n",
    "# Obtain number of unique players by gender\n",
    "players_by_gender = gender_group_df['SN'].nunique()\n",
    "\n",
    "# Obtain average purchases of unique players by gender\n",
    "avg_purchase_player_gender = total_purchase_gender/players_by_gender\n",
    "\n",
    "# Put all items in a data frame\n",
    "summary_gender_df = pd.DataFrame({\"Purchase Count\" : purchase_count_gender,\n",
    "             \"Average Purchase Price\" : avg_purchaseprice_gender,\n",
    "             \"Total Purchase Value\" : total_purchase_gender,\n",
    "             \"Avg Total Purchase per Person\": avg_purchase_player_gender})\n",
    "\n",
    "# Display data frame\n",
    "summary_gender_df.style.format({\"Average Purchase Price\" : \"${:,.2f}\",\n",
    "                               \"Total Purchase Value\" : \"${:,.2f}\",\n",
    "                               \"Avg Total Purchase per Person\" : \"${:,.2f}\"})"
   ]
  },
  {
   "cell_type": "markdown",
   "metadata": {},
   "source": [
    "## Age Demographics"
   ]
  },
  {
   "cell_type": "markdown",
   "metadata": {},
   "source": [
    "* Establish bins for ages\n",
    "\n",
    "\n",
    "* Categorize the existing players using the age bins. Hint: use pd.cut()\n",
    "\n",
    "\n",
    "* Calculate the numbers and percentages by age group\n",
    "\n",
    "\n",
    "* Create a summary data frame to hold the results\n",
    "\n",
    "\n",
    "* Optional: round the percentage column to two decimal points\n",
    "\n",
    "\n",
    "* Display Age Demographics Table\n"
   ]
  },
  {
   "cell_type": "code",
   "execution_count": 92,
   "metadata": {},
   "outputs": [
    {
     "data": {
      "text/html": [
       "<style  type=\"text/css\" >\n",
       "</style><table id=\"T_92ec1e1a_8786_11ea_a12c_ac2b6ea1c709\" ><thead>    <tr>        <th class=\"blank level0\" ></th>        <th class=\"col_heading level0 col0\" >Total Count</th>        <th class=\"col_heading level0 col1\" >Percentage of Players</th>    </tr>    <tr>        <th class=\"index_name level0\" >Age Range</th>        <th class=\"blank\" ></th>        <th class=\"blank\" ></th>    </tr></thead><tbody>\n",
       "                <tr>\n",
       "                        <th id=\"T_92ec1e1a_8786_11ea_a12c_ac2b6ea1c709level0_row0\" class=\"row_heading level0 row0\" ><10</th>\n",
       "                        <td id=\"T_92ec1e1a_8786_11ea_a12c_ac2b6ea1c709row0_col0\" class=\"data row0 col0\" >17</td>\n",
       "                        <td id=\"T_92ec1e1a_8786_11ea_a12c_ac2b6ea1c709row0_col1\" class=\"data row0 col1\" >2.95%</td>\n",
       "            </tr>\n",
       "            <tr>\n",
       "                        <th id=\"T_92ec1e1a_8786_11ea_a12c_ac2b6ea1c709level0_row1\" class=\"row_heading level0 row1\" >10-14</th>\n",
       "                        <td id=\"T_92ec1e1a_8786_11ea_a12c_ac2b6ea1c709row1_col0\" class=\"data row1 col0\" >22</td>\n",
       "                        <td id=\"T_92ec1e1a_8786_11ea_a12c_ac2b6ea1c709row1_col1\" class=\"data row1 col1\" >3.82%</td>\n",
       "            </tr>\n",
       "            <tr>\n",
       "                        <th id=\"T_92ec1e1a_8786_11ea_a12c_ac2b6ea1c709level0_row2\" class=\"row_heading level0 row2\" >15-19</th>\n",
       "                        <td id=\"T_92ec1e1a_8786_11ea_a12c_ac2b6ea1c709row2_col0\" class=\"data row2 col0\" >107</td>\n",
       "                        <td id=\"T_92ec1e1a_8786_11ea_a12c_ac2b6ea1c709row2_col1\" class=\"data row2 col1\" >18.58%</td>\n",
       "            </tr>\n",
       "            <tr>\n",
       "                        <th id=\"T_92ec1e1a_8786_11ea_a12c_ac2b6ea1c709level0_row3\" class=\"row_heading level0 row3\" >20-24</th>\n",
       "                        <td id=\"T_92ec1e1a_8786_11ea_a12c_ac2b6ea1c709row3_col0\" class=\"data row3 col0\" >258</td>\n",
       "                        <td id=\"T_92ec1e1a_8786_11ea_a12c_ac2b6ea1c709row3_col1\" class=\"data row3 col1\" >44.79%</td>\n",
       "            </tr>\n",
       "            <tr>\n",
       "                        <th id=\"T_92ec1e1a_8786_11ea_a12c_ac2b6ea1c709level0_row4\" class=\"row_heading level0 row4\" >25-29</th>\n",
       "                        <td id=\"T_92ec1e1a_8786_11ea_a12c_ac2b6ea1c709row4_col0\" class=\"data row4 col0\" >77</td>\n",
       "                        <td id=\"T_92ec1e1a_8786_11ea_a12c_ac2b6ea1c709row4_col1\" class=\"data row4 col1\" >13.37%</td>\n",
       "            </tr>\n",
       "            <tr>\n",
       "                        <th id=\"T_92ec1e1a_8786_11ea_a12c_ac2b6ea1c709level0_row5\" class=\"row_heading level0 row5\" >30-34</th>\n",
       "                        <td id=\"T_92ec1e1a_8786_11ea_a12c_ac2b6ea1c709row5_col0\" class=\"data row5 col0\" >52</td>\n",
       "                        <td id=\"T_92ec1e1a_8786_11ea_a12c_ac2b6ea1c709row5_col1\" class=\"data row5 col1\" >9.03%</td>\n",
       "            </tr>\n",
       "            <tr>\n",
       "                        <th id=\"T_92ec1e1a_8786_11ea_a12c_ac2b6ea1c709level0_row6\" class=\"row_heading level0 row6\" >35-39</th>\n",
       "                        <td id=\"T_92ec1e1a_8786_11ea_a12c_ac2b6ea1c709row6_col0\" class=\"data row6 col0\" >31</td>\n",
       "                        <td id=\"T_92ec1e1a_8786_11ea_a12c_ac2b6ea1c709row6_col1\" class=\"data row6 col1\" >5.38%</td>\n",
       "            </tr>\n",
       "            <tr>\n",
       "                        <th id=\"T_92ec1e1a_8786_11ea_a12c_ac2b6ea1c709level0_row7\" class=\"row_heading level0 row7\" >40+</th>\n",
       "                        <td id=\"T_92ec1e1a_8786_11ea_a12c_ac2b6ea1c709row7_col0\" class=\"data row7 col0\" >12</td>\n",
       "                        <td id=\"T_92ec1e1a_8786_11ea_a12c_ac2b6ea1c709row7_col1\" class=\"data row7 col1\" >2.08%</td>\n",
       "            </tr>\n",
       "    </tbody></table>"
      ],
      "text/plain": [
       "<pandas.io.formats.style.Styler at 0x1870530e7c8>"
      ]
     },
     "execution_count": 92,
     "metadata": {},
     "output_type": "execute_result"
    }
   ],
   "source": [
    "# Setup the limits of each bin\n",
    "bin = [0, 10, 15, 20, 25, 30, 35, 40, float(\"inf\")]\n",
    "\n",
    "# Setup the labels for each bin\n",
    "label = ['<10', '10-14', '15-19', '20-24', '25-29', '30-34', '35-39', '40+']\n",
    "\n",
    "# Indicate the data to be binned and the parameters for binning and assign to a variable\n",
    "age_range = pd.cut(\n",
    "    purchase_data['Age'],\n",
    "    bins=bin,\n",
    "    labels=label,\n",
    "    right = False,\n",
    "    include_lowest=True\n",
    ")\n",
    "\n",
    "# Add a column which contains age group to the data frame\n",
    "purchase_data[\"Age Range\"]= age_range\n",
    "\n",
    "# Group data frame by age group\n",
    "age_group = purchase_data.groupby(\"Age Range\")\n",
    "\n",
    "# Obtain number of players in each age category\n",
    "total_count_by_age = age_group['SN'].nunique().sort_index()\n",
    "\n",
    "# Obtain percentage of players in each age category\n",
    "percent_of_players_by_age = total_count_by_age/total_players*100\n",
    "\n",
    "# Put in a data frame\n",
    "players_by_age_df = pd.DataFrame({\"Total Count\" : total_count_by_age,\n",
    "             \"Percentage of Players\" : percent_of_players_by_age})\n",
    "\n",
    "# Display the data frame\n",
    "players_by_age_df.style.format({\"Percentage of Players\" : \"{:,.2f}%\"})"
   ]
  },
  {
   "cell_type": "markdown",
   "metadata": {},
   "source": [
    "## Purchasing Analysis (Age)"
   ]
  },
  {
   "cell_type": "markdown",
   "metadata": {},
   "source": [
    "* Bin the purchase_data data frame by age\n",
    "\n",
    "\n",
    "* Run basic calculations to obtain purchase count, avg. purchase price, avg. purchase total per person etc. in the table below\n",
    "\n",
    "\n",
    "* Create a summary data frame to hold the results\n",
    "\n",
    "\n",
    "* Optional: give the displayed data cleaner formatting\n",
    "\n",
    "\n",
    "* Display the summary data frame"
   ]
  },
  {
   "cell_type": "code",
   "execution_count": 93,
   "metadata": {},
   "outputs": [
    {
     "data": {
      "text/html": [
       "<style  type=\"text/css\" >\n",
       "</style><table id=\"T_93aaf0a8_8786_11ea_bf62_ac2b6ea1c709\" ><thead>    <tr>        <th class=\"blank level0\" ></th>        <th class=\"col_heading level0 col0\" >Purchase Count</th>        <th class=\"col_heading level0 col1\" >Average Purchase Price</th>        <th class=\"col_heading level0 col2\" >Total Purchase Value</th>        <th class=\"col_heading level0 col3\" >Avg Total Purchase per Person</th>    </tr>    <tr>        <th class=\"index_name level0\" >Age Range</th>        <th class=\"blank\" ></th>        <th class=\"blank\" ></th>        <th class=\"blank\" ></th>        <th class=\"blank\" ></th>    </tr></thead><tbody>\n",
       "                <tr>\n",
       "                        <th id=\"T_93aaf0a8_8786_11ea_bf62_ac2b6ea1c709level0_row0\" class=\"row_heading level0 row0\" ><10</th>\n",
       "                        <td id=\"T_93aaf0a8_8786_11ea_bf62_ac2b6ea1c709row0_col0\" class=\"data row0 col0\" >23</td>\n",
       "                        <td id=\"T_93aaf0a8_8786_11ea_bf62_ac2b6ea1c709row0_col1\" class=\"data row0 col1\" >$3.35</td>\n",
       "                        <td id=\"T_93aaf0a8_8786_11ea_bf62_ac2b6ea1c709row0_col2\" class=\"data row0 col2\" >$77.13</td>\n",
       "                        <td id=\"T_93aaf0a8_8786_11ea_bf62_ac2b6ea1c709row0_col3\" class=\"data row0 col3\" >$4.54</td>\n",
       "            </tr>\n",
       "            <tr>\n",
       "                        <th id=\"T_93aaf0a8_8786_11ea_bf62_ac2b6ea1c709level0_row1\" class=\"row_heading level0 row1\" >10-14</th>\n",
       "                        <td id=\"T_93aaf0a8_8786_11ea_bf62_ac2b6ea1c709row1_col0\" class=\"data row1 col0\" >28</td>\n",
       "                        <td id=\"T_93aaf0a8_8786_11ea_bf62_ac2b6ea1c709row1_col1\" class=\"data row1 col1\" >$2.96</td>\n",
       "                        <td id=\"T_93aaf0a8_8786_11ea_bf62_ac2b6ea1c709row1_col2\" class=\"data row1 col2\" >$82.78</td>\n",
       "                        <td id=\"T_93aaf0a8_8786_11ea_bf62_ac2b6ea1c709row1_col3\" class=\"data row1 col3\" >$3.76</td>\n",
       "            </tr>\n",
       "            <tr>\n",
       "                        <th id=\"T_93aaf0a8_8786_11ea_bf62_ac2b6ea1c709level0_row2\" class=\"row_heading level0 row2\" >15-19</th>\n",
       "                        <td id=\"T_93aaf0a8_8786_11ea_bf62_ac2b6ea1c709row2_col0\" class=\"data row2 col0\" >136</td>\n",
       "                        <td id=\"T_93aaf0a8_8786_11ea_bf62_ac2b6ea1c709row2_col1\" class=\"data row2 col1\" >$3.04</td>\n",
       "                        <td id=\"T_93aaf0a8_8786_11ea_bf62_ac2b6ea1c709row2_col2\" class=\"data row2 col2\" >$412.89</td>\n",
       "                        <td id=\"T_93aaf0a8_8786_11ea_bf62_ac2b6ea1c709row2_col3\" class=\"data row2 col3\" >$3.86</td>\n",
       "            </tr>\n",
       "            <tr>\n",
       "                        <th id=\"T_93aaf0a8_8786_11ea_bf62_ac2b6ea1c709level0_row3\" class=\"row_heading level0 row3\" >20-24</th>\n",
       "                        <td id=\"T_93aaf0a8_8786_11ea_bf62_ac2b6ea1c709row3_col0\" class=\"data row3 col0\" >365</td>\n",
       "                        <td id=\"T_93aaf0a8_8786_11ea_bf62_ac2b6ea1c709row3_col1\" class=\"data row3 col1\" >$3.05</td>\n",
       "                        <td id=\"T_93aaf0a8_8786_11ea_bf62_ac2b6ea1c709row3_col2\" class=\"data row3 col2\" >$1,114.06</td>\n",
       "                        <td id=\"T_93aaf0a8_8786_11ea_bf62_ac2b6ea1c709row3_col3\" class=\"data row3 col3\" >$4.32</td>\n",
       "            </tr>\n",
       "            <tr>\n",
       "                        <th id=\"T_93aaf0a8_8786_11ea_bf62_ac2b6ea1c709level0_row4\" class=\"row_heading level0 row4\" >25-29</th>\n",
       "                        <td id=\"T_93aaf0a8_8786_11ea_bf62_ac2b6ea1c709row4_col0\" class=\"data row4 col0\" >101</td>\n",
       "                        <td id=\"T_93aaf0a8_8786_11ea_bf62_ac2b6ea1c709row4_col1\" class=\"data row4 col1\" >$2.90</td>\n",
       "                        <td id=\"T_93aaf0a8_8786_11ea_bf62_ac2b6ea1c709row4_col2\" class=\"data row4 col2\" >$293.00</td>\n",
       "                        <td id=\"T_93aaf0a8_8786_11ea_bf62_ac2b6ea1c709row4_col3\" class=\"data row4 col3\" >$3.81</td>\n",
       "            </tr>\n",
       "            <tr>\n",
       "                        <th id=\"T_93aaf0a8_8786_11ea_bf62_ac2b6ea1c709level0_row5\" class=\"row_heading level0 row5\" >30-34</th>\n",
       "                        <td id=\"T_93aaf0a8_8786_11ea_bf62_ac2b6ea1c709row5_col0\" class=\"data row5 col0\" >73</td>\n",
       "                        <td id=\"T_93aaf0a8_8786_11ea_bf62_ac2b6ea1c709row5_col1\" class=\"data row5 col1\" >$2.93</td>\n",
       "                        <td id=\"T_93aaf0a8_8786_11ea_bf62_ac2b6ea1c709row5_col2\" class=\"data row5 col2\" >$214.00</td>\n",
       "                        <td id=\"T_93aaf0a8_8786_11ea_bf62_ac2b6ea1c709row5_col3\" class=\"data row5 col3\" >$4.12</td>\n",
       "            </tr>\n",
       "            <tr>\n",
       "                        <th id=\"T_93aaf0a8_8786_11ea_bf62_ac2b6ea1c709level0_row6\" class=\"row_heading level0 row6\" >35-39</th>\n",
       "                        <td id=\"T_93aaf0a8_8786_11ea_bf62_ac2b6ea1c709row6_col0\" class=\"data row6 col0\" >41</td>\n",
       "                        <td id=\"T_93aaf0a8_8786_11ea_bf62_ac2b6ea1c709row6_col1\" class=\"data row6 col1\" >$3.60</td>\n",
       "                        <td id=\"T_93aaf0a8_8786_11ea_bf62_ac2b6ea1c709row6_col2\" class=\"data row6 col2\" >$147.67</td>\n",
       "                        <td id=\"T_93aaf0a8_8786_11ea_bf62_ac2b6ea1c709row6_col3\" class=\"data row6 col3\" >$4.76</td>\n",
       "            </tr>\n",
       "            <tr>\n",
       "                        <th id=\"T_93aaf0a8_8786_11ea_bf62_ac2b6ea1c709level0_row7\" class=\"row_heading level0 row7\" >40+</th>\n",
       "                        <td id=\"T_93aaf0a8_8786_11ea_bf62_ac2b6ea1c709row7_col0\" class=\"data row7 col0\" >13</td>\n",
       "                        <td id=\"T_93aaf0a8_8786_11ea_bf62_ac2b6ea1c709row7_col1\" class=\"data row7 col1\" >$2.94</td>\n",
       "                        <td id=\"T_93aaf0a8_8786_11ea_bf62_ac2b6ea1c709row7_col2\" class=\"data row7 col2\" >$38.24</td>\n",
       "                        <td id=\"T_93aaf0a8_8786_11ea_bf62_ac2b6ea1c709row7_col3\" class=\"data row7 col3\" >$3.19</td>\n",
       "            </tr>\n",
       "    </tbody></table>"
      ],
      "text/plain": [
       "<pandas.io.formats.style.Styler at 0x18705304f08>"
      ]
     },
     "execution_count": 93,
     "metadata": {},
     "output_type": "execute_result"
    }
   ],
   "source": [
    "# Obtain number of purchases made by each age group\n",
    "purch_count = age_group[\"Purchase ID\"].count()\n",
    "\n",
    "# Obtain average price of purchases made by each age group\n",
    "avg_purch_price = age_group[\"Price\"].mean()\n",
    "\n",
    "# Obtain total dollar amount of purchases made by each age group\n",
    "total_purch_value = age_group[\"Price\"].sum()\n",
    "\n",
    "# Obtain average total purchases made per person by each age group\n",
    "avg_total_purch_per_person = total_purch_value / total_count_by_age\n",
    "\n",
    "# Put in data frame\n",
    "age_analysis = pd.DataFrame({'Purchase Count' : purch_count,\n",
    "                \"Average Purchase Price\": avg_purch_price,\n",
    "                \"Total Purchase Value\" : total_purch_value,\n",
    "                \"Avg Total Purchase per Person\" : avg_total_purch_per_person\n",
    "                            })\n",
    "\n",
    "# Display the data frame\n",
    "age_analysis.style.format({\"Average Purchase Price\" : \"${:,.2f}\",\n",
    "                          \"Total Purchase Value\" : \"${:,.2f}\",\n",
    "                          \"Avg Total Purchase per Person\" : \"${:,.2f}\"})"
   ]
  },
  {
   "cell_type": "markdown",
   "metadata": {},
   "source": [
    "## Top Spenders"
   ]
  },
  {
   "cell_type": "markdown",
   "metadata": {},
   "source": [
    "* Run basic calculations to obtain the results in the table below\n",
    "\n",
    "\n",
    "* Create a summary data frame to hold the results\n",
    "\n",
    "\n",
    "* Sort the total purchase value column in descending order\n",
    "\n",
    "\n",
    "* Optional: give the displayed data cleaner formatting\n",
    "\n",
    "\n",
    "* Display a preview of the summary data frame\n",
    "\n"
   ]
  },
  {
   "cell_type": "code",
   "execution_count": 94,
   "metadata": {},
   "outputs": [
    {
     "data": {
      "text/html": [
       "<style  type=\"text/css\" >\n",
       "</style><table id=\"T_946ef05a_8786_11ea_abb8_ac2b6ea1c709\" ><thead>    <tr>        <th class=\"blank level0\" ></th>        <th class=\"col_heading level0 col0\" >Purchase Count</th>        <th class=\"col_heading level0 col1\" >Average Purchase Price</th>        <th class=\"col_heading level0 col2\" >Top Purchase Value</th>    </tr></thead><tbody>\n",
       "                <tr>\n",
       "                        <th id=\"T_946ef05a_8786_11ea_abb8_ac2b6ea1c709level0_row0\" class=\"row_heading level0 row0\" >Lisosia93</th>\n",
       "                        <td id=\"T_946ef05a_8786_11ea_abb8_ac2b6ea1c709row0_col0\" class=\"data row0 col0\" >5</td>\n",
       "                        <td id=\"T_946ef05a_8786_11ea_abb8_ac2b6ea1c709row0_col1\" class=\"data row0 col1\" >$3.79</td>\n",
       "                        <td id=\"T_946ef05a_8786_11ea_abb8_ac2b6ea1c709row0_col2\" class=\"data row0 col2\" >$18.96</td>\n",
       "            </tr>\n",
       "            <tr>\n",
       "                        <th id=\"T_946ef05a_8786_11ea_abb8_ac2b6ea1c709level0_row1\" class=\"row_heading level0 row1\" >Idastidru52</th>\n",
       "                        <td id=\"T_946ef05a_8786_11ea_abb8_ac2b6ea1c709row1_col0\" class=\"data row1 col0\" >4</td>\n",
       "                        <td id=\"T_946ef05a_8786_11ea_abb8_ac2b6ea1c709row1_col1\" class=\"data row1 col1\" >$3.86</td>\n",
       "                        <td id=\"T_946ef05a_8786_11ea_abb8_ac2b6ea1c709row1_col2\" class=\"data row1 col2\" >$15.45</td>\n",
       "            </tr>\n",
       "            <tr>\n",
       "                        <th id=\"T_946ef05a_8786_11ea_abb8_ac2b6ea1c709level0_row2\" class=\"row_heading level0 row2\" >Chamjask73</th>\n",
       "                        <td id=\"T_946ef05a_8786_11ea_abb8_ac2b6ea1c709row2_col0\" class=\"data row2 col0\" >3</td>\n",
       "                        <td id=\"T_946ef05a_8786_11ea_abb8_ac2b6ea1c709row2_col1\" class=\"data row2 col1\" >$4.61</td>\n",
       "                        <td id=\"T_946ef05a_8786_11ea_abb8_ac2b6ea1c709row2_col2\" class=\"data row2 col2\" >$13.83</td>\n",
       "            </tr>\n",
       "            <tr>\n",
       "                        <th id=\"T_946ef05a_8786_11ea_abb8_ac2b6ea1c709level0_row3\" class=\"row_heading level0 row3\" >Iral74</th>\n",
       "                        <td id=\"T_946ef05a_8786_11ea_abb8_ac2b6ea1c709row3_col0\" class=\"data row3 col0\" >4</td>\n",
       "                        <td id=\"T_946ef05a_8786_11ea_abb8_ac2b6ea1c709row3_col1\" class=\"data row3 col1\" >$3.40</td>\n",
       "                        <td id=\"T_946ef05a_8786_11ea_abb8_ac2b6ea1c709row3_col2\" class=\"data row3 col2\" >$13.62</td>\n",
       "            </tr>\n",
       "            <tr>\n",
       "                        <th id=\"T_946ef05a_8786_11ea_abb8_ac2b6ea1c709level0_row4\" class=\"row_heading level0 row4\" >Iskadarya95</th>\n",
       "                        <td id=\"T_946ef05a_8786_11ea_abb8_ac2b6ea1c709row4_col0\" class=\"data row4 col0\" >3</td>\n",
       "                        <td id=\"T_946ef05a_8786_11ea_abb8_ac2b6ea1c709row4_col1\" class=\"data row4 col1\" >$4.37</td>\n",
       "                        <td id=\"T_946ef05a_8786_11ea_abb8_ac2b6ea1c709row4_col2\" class=\"data row4 col2\" >$13.10</td>\n",
       "            </tr>\n",
       "    </tbody></table>"
      ],
      "text/plain": [
       "<pandas.io.formats.style.Styler at 0x1870538d348>"
      ]
     },
     "execution_count": 94,
     "metadata": {},
     "output_type": "execute_result"
    }
   ],
   "source": [
    "# Group purchase data by each unique player\n",
    "player_group = purchase_data.groupby('SN')\n",
    "\n",
    "# Obtain number of purchases made by each player\n",
    "purchase_count = player_group[\"Purchase ID\"].count()\n",
    "\n",
    "# Obtain average dollar amount of purchases made by each player\n",
    "avg_purchase = player_group[\"Price\"].mean()\n",
    "\n",
    "# Put in a data frame\n",
    "top_spender_df = pd.DataFrame({\"Purchase Count\" : purchase_count,\n",
    "             \"Average Purchase Price\" : avg_purchase,\n",
    "             \"Top Purchase Value\": top_spender_group})\n",
    "\n",
    "# Display top 5 players with the highest spending\n",
    "top_spender_df.sort_values(by = \"Top Purchase Value\", ascending = False).head().style.format({\"Average Purchase Price\" : \"${:,.2f}\",\n",
    "                          \"Top Purchase Value\" : \"${:,.2f}\"})"
   ]
  },
  {
   "cell_type": "markdown",
   "metadata": {},
   "source": [
    "## Most Popular Items"
   ]
  },
  {
   "cell_type": "markdown",
   "metadata": {},
   "source": [
    "* Retrieve the Item ID, Item Name, and Item Price columns\n",
    "\n",
    "\n",
    "* Group by Item ID and Item Name. Perform calculations to obtain purchase count, item price, and total purchase value\n",
    "\n",
    "\n",
    "* Create a summary data frame to hold the results\n",
    "\n",
    "\n",
    "* Sort the purchase count column in descending order\n",
    "\n",
    "\n",
    "* Optional: give the displayed data cleaner formatting\n",
    "\n",
    "\n",
    "* Display a preview of the summary data frame\n",
    "\n"
   ]
  },
  {
   "cell_type": "code",
   "execution_count": 95,
   "metadata": {},
   "outputs": [
    {
     "data": {
      "text/html": [
       "<style  type=\"text/css\" >\n",
       "</style><table id=\"T_955875e8_8786_11ea_a4a7_ac2b6ea1c709\" ><thead>    <tr>        <th class=\"blank\" ></th>        <th class=\"blank level0\" ></th>        <th class=\"col_heading level0 col0\" >Purchase Count</th>        <th class=\"col_heading level0 col1\" >Item Price</th>        <th class=\"col_heading level0 col2\" >Total Purchase Value</th>    </tr>    <tr>        <th class=\"index_name level0\" >Item ID</th>        <th class=\"index_name level1\" >Item Name</th>        <th class=\"blank\" ></th>        <th class=\"blank\" ></th>        <th class=\"blank\" ></th>    </tr></thead><tbody>\n",
       "                <tr>\n",
       "                        <th id=\"T_955875e8_8786_11ea_a4a7_ac2b6ea1c709level0_row0\" class=\"row_heading level0 row0\" >92</th>\n",
       "                        <th id=\"T_955875e8_8786_11ea_a4a7_ac2b6ea1c709level1_row0\" class=\"row_heading level1 row0\" >Final Critic</th>\n",
       "                        <td id=\"T_955875e8_8786_11ea_a4a7_ac2b6ea1c709row0_col0\" class=\"data row0 col0\" >13</td>\n",
       "                        <td id=\"T_955875e8_8786_11ea_a4a7_ac2b6ea1c709row0_col1\" class=\"data row0 col1\" >$4.61</td>\n",
       "                        <td id=\"T_955875e8_8786_11ea_a4a7_ac2b6ea1c709row0_col2\" class=\"data row0 col2\" >$59.99</td>\n",
       "            </tr>\n",
       "            <tr>\n",
       "                        <th id=\"T_955875e8_8786_11ea_a4a7_ac2b6ea1c709level0_row1\" class=\"row_heading level0 row1\" >178</th>\n",
       "                        <th id=\"T_955875e8_8786_11ea_a4a7_ac2b6ea1c709level1_row1\" class=\"row_heading level1 row1\" >Oathbreaker, Last Hope of the Breaking Storm</th>\n",
       "                        <td id=\"T_955875e8_8786_11ea_a4a7_ac2b6ea1c709row1_col0\" class=\"data row1 col0\" >12</td>\n",
       "                        <td id=\"T_955875e8_8786_11ea_a4a7_ac2b6ea1c709row1_col1\" class=\"data row1 col1\" >$4.23</td>\n",
       "                        <td id=\"T_955875e8_8786_11ea_a4a7_ac2b6ea1c709row1_col2\" class=\"data row1 col2\" >$50.76</td>\n",
       "            </tr>\n",
       "            <tr>\n",
       "                        <th id=\"T_955875e8_8786_11ea_a4a7_ac2b6ea1c709level0_row2\" class=\"row_heading level0 row2\" >145</th>\n",
       "                        <th id=\"T_955875e8_8786_11ea_a4a7_ac2b6ea1c709level1_row2\" class=\"row_heading level1 row2\" >Fiery Glass Crusader</th>\n",
       "                        <td id=\"T_955875e8_8786_11ea_a4a7_ac2b6ea1c709row2_col0\" class=\"data row2 col0\" >9</td>\n",
       "                        <td id=\"T_955875e8_8786_11ea_a4a7_ac2b6ea1c709row2_col1\" class=\"data row2 col1\" >$4.58</td>\n",
       "                        <td id=\"T_955875e8_8786_11ea_a4a7_ac2b6ea1c709row2_col2\" class=\"data row2 col2\" >$41.22</td>\n",
       "            </tr>\n",
       "            <tr>\n",
       "                        <th id=\"T_955875e8_8786_11ea_a4a7_ac2b6ea1c709level0_row3\" class=\"row_heading level0 row3\" >132</th>\n",
       "                        <th id=\"T_955875e8_8786_11ea_a4a7_ac2b6ea1c709level1_row3\" class=\"row_heading level1 row3\" >Persuasion</th>\n",
       "                        <td id=\"T_955875e8_8786_11ea_a4a7_ac2b6ea1c709row3_col0\" class=\"data row3 col0\" >9</td>\n",
       "                        <td id=\"T_955875e8_8786_11ea_a4a7_ac2b6ea1c709row3_col1\" class=\"data row3 col1\" >$3.22</td>\n",
       "                        <td id=\"T_955875e8_8786_11ea_a4a7_ac2b6ea1c709row3_col2\" class=\"data row3 col2\" >$28.99</td>\n",
       "            </tr>\n",
       "            <tr>\n",
       "                        <th id=\"T_955875e8_8786_11ea_a4a7_ac2b6ea1c709level0_row4\" class=\"row_heading level0 row4\" >108</th>\n",
       "                        <th id=\"T_955875e8_8786_11ea_a4a7_ac2b6ea1c709level1_row4\" class=\"row_heading level1 row4\" >Extraction, Quickblade Of Trembling Hands</th>\n",
       "                        <td id=\"T_955875e8_8786_11ea_a4a7_ac2b6ea1c709row4_col0\" class=\"data row4 col0\" >9</td>\n",
       "                        <td id=\"T_955875e8_8786_11ea_a4a7_ac2b6ea1c709row4_col1\" class=\"data row4 col1\" >$3.53</td>\n",
       "                        <td id=\"T_955875e8_8786_11ea_a4a7_ac2b6ea1c709row4_col2\" class=\"data row4 col2\" >$31.77</td>\n",
       "            </tr>\n",
       "    </tbody></table>"
      ],
      "text/plain": [
       "<pandas.io.formats.style.Styler at 0x1870538d088>"
      ]
     },
     "execution_count": 95,
     "metadata": {},
     "output_type": "execute_result"
    }
   ],
   "source": [
    "# Create a data frame which contains only the Item ID, Item Name and Price\n",
    "items_df = purchase_data[[\"Item ID\", \"Item Name\", \"Price\"]]\n",
    "\n",
    "# Group the new data frame by item\n",
    "items_group = items_df.groupby([\"Item ID\", \"Item Name\"])\n",
    "\n",
    "# Obtain the number of purchases made by item\n",
    "purchase_count1 = items_group['Price'].count()\n",
    "\n",
    "# Obtain dollar amount of purchases made by item\n",
    "purchase_value = items_group[\"Price\"].sum()\n",
    "\n",
    "# Obtain dollar amount of purchases made by item\n",
    "item_price = items_group['Price'].mean()\n",
    "\n",
    "# Put in a data frame\n",
    "popular_df = pd.DataFrame({'Purchase Count' : purchase_count1,\n",
    "                           'Item Price' : item_price,\n",
    "                           'Total Purchase Value' : purchase_value,\n",
    "                          })\n",
    "# Display the data frame\n",
    "popular_df.sort_values('Purchase Count', ascending=False).head().style.format({\"Item Price\" : \"${:,.2f}\",\n",
    "                          \"Total Purchase Value\" : \"${:,.2f}\"})"
   ]
  },
  {
   "cell_type": "markdown",
   "metadata": {},
   "source": [
    "## Most Profitable Items"
   ]
  },
  {
   "cell_type": "markdown",
   "metadata": {},
   "source": [
    "* Sort the above table by total purchase value in descending order\n",
    "\n",
    "\n",
    "* Optional: give the displayed data cleaner formatting\n",
    "\n",
    "\n",
    "* Display a preview of the data frame\n",
    "\n"
   ]
  },
  {
   "cell_type": "code",
   "execution_count": 96,
   "metadata": {},
   "outputs": [
    {
     "data": {
      "text/html": [
       "<style  type=\"text/css\" >\n",
       "</style><table id=\"T_9634d0fa_8786_11ea_9a7f_ac2b6ea1c709\" ><thead>    <tr>        <th class=\"blank\" ></th>        <th class=\"blank level0\" ></th>        <th class=\"col_heading level0 col0\" >Purchase Count</th>        <th class=\"col_heading level0 col1\" >Item Price</th>        <th class=\"col_heading level0 col2\" >Total Purchase Value</th>    </tr>    <tr>        <th class=\"index_name level0\" >Item ID</th>        <th class=\"index_name level1\" >Item Name</th>        <th class=\"blank\" ></th>        <th class=\"blank\" ></th>        <th class=\"blank\" ></th>    </tr></thead><tbody>\n",
       "                <tr>\n",
       "                        <th id=\"T_9634d0fa_8786_11ea_9a7f_ac2b6ea1c709level0_row0\" class=\"row_heading level0 row0\" >92</th>\n",
       "                        <th id=\"T_9634d0fa_8786_11ea_9a7f_ac2b6ea1c709level1_row0\" class=\"row_heading level1 row0\" >Final Critic</th>\n",
       "                        <td id=\"T_9634d0fa_8786_11ea_9a7f_ac2b6ea1c709row0_col0\" class=\"data row0 col0\" >13</td>\n",
       "                        <td id=\"T_9634d0fa_8786_11ea_9a7f_ac2b6ea1c709row0_col1\" class=\"data row0 col1\" >$4.61</td>\n",
       "                        <td id=\"T_9634d0fa_8786_11ea_9a7f_ac2b6ea1c709row0_col2\" class=\"data row0 col2\" >$59.99</td>\n",
       "            </tr>\n",
       "            <tr>\n",
       "                        <th id=\"T_9634d0fa_8786_11ea_9a7f_ac2b6ea1c709level0_row1\" class=\"row_heading level0 row1\" >178</th>\n",
       "                        <th id=\"T_9634d0fa_8786_11ea_9a7f_ac2b6ea1c709level1_row1\" class=\"row_heading level1 row1\" >Oathbreaker, Last Hope of the Breaking Storm</th>\n",
       "                        <td id=\"T_9634d0fa_8786_11ea_9a7f_ac2b6ea1c709row1_col0\" class=\"data row1 col0\" >12</td>\n",
       "                        <td id=\"T_9634d0fa_8786_11ea_9a7f_ac2b6ea1c709row1_col1\" class=\"data row1 col1\" >$4.23</td>\n",
       "                        <td id=\"T_9634d0fa_8786_11ea_9a7f_ac2b6ea1c709row1_col2\" class=\"data row1 col2\" >$50.76</td>\n",
       "            </tr>\n",
       "            <tr>\n",
       "                        <th id=\"T_9634d0fa_8786_11ea_9a7f_ac2b6ea1c709level0_row2\" class=\"row_heading level0 row2\" >82</th>\n",
       "                        <th id=\"T_9634d0fa_8786_11ea_9a7f_ac2b6ea1c709level1_row2\" class=\"row_heading level1 row2\" >Nirvana</th>\n",
       "                        <td id=\"T_9634d0fa_8786_11ea_9a7f_ac2b6ea1c709row2_col0\" class=\"data row2 col0\" >9</td>\n",
       "                        <td id=\"T_9634d0fa_8786_11ea_9a7f_ac2b6ea1c709row2_col1\" class=\"data row2 col1\" >$4.90</td>\n",
       "                        <td id=\"T_9634d0fa_8786_11ea_9a7f_ac2b6ea1c709row2_col2\" class=\"data row2 col2\" >$44.10</td>\n",
       "            </tr>\n",
       "            <tr>\n",
       "                        <th id=\"T_9634d0fa_8786_11ea_9a7f_ac2b6ea1c709level0_row3\" class=\"row_heading level0 row3\" >145</th>\n",
       "                        <th id=\"T_9634d0fa_8786_11ea_9a7f_ac2b6ea1c709level1_row3\" class=\"row_heading level1 row3\" >Fiery Glass Crusader</th>\n",
       "                        <td id=\"T_9634d0fa_8786_11ea_9a7f_ac2b6ea1c709row3_col0\" class=\"data row3 col0\" >9</td>\n",
       "                        <td id=\"T_9634d0fa_8786_11ea_9a7f_ac2b6ea1c709row3_col1\" class=\"data row3 col1\" >$4.58</td>\n",
       "                        <td id=\"T_9634d0fa_8786_11ea_9a7f_ac2b6ea1c709row3_col2\" class=\"data row3 col2\" >$41.22</td>\n",
       "            </tr>\n",
       "            <tr>\n",
       "                        <th id=\"T_9634d0fa_8786_11ea_9a7f_ac2b6ea1c709level0_row4\" class=\"row_heading level0 row4\" >103</th>\n",
       "                        <th id=\"T_9634d0fa_8786_11ea_9a7f_ac2b6ea1c709level1_row4\" class=\"row_heading level1 row4\" >Singed Scalpel</th>\n",
       "                        <td id=\"T_9634d0fa_8786_11ea_9a7f_ac2b6ea1c709row4_col0\" class=\"data row4 col0\" >8</td>\n",
       "                        <td id=\"T_9634d0fa_8786_11ea_9a7f_ac2b6ea1c709row4_col1\" class=\"data row4 col1\" >$4.35</td>\n",
       "                        <td id=\"T_9634d0fa_8786_11ea_9a7f_ac2b6ea1c709row4_col2\" class=\"data row4 col2\" >$34.80</td>\n",
       "            </tr>\n",
       "    </tbody></table>"
      ],
      "text/plain": [
       "<pandas.io.formats.style.Styler at 0x1870512cec8>"
      ]
     },
     "execution_count": 96,
     "metadata": {},
     "output_type": "execute_result"
    }
   ],
   "source": [
    "# Display the most profitable items by sorting the Total Purchase Value in descending order\n",
    "popular_df.sort_values('Total Purchase Value', ascending=False).head().style.format({\"Item Price\" : \"${:.2f}\",\n",
    "                        \"Total Purchase Value\" : \"${:.2f}\"})\n"
   ]
  },
  {
   "cell_type": "code",
   "execution_count": null,
   "metadata": {},
   "outputs": [],
   "source": []
  }
 ],
 "metadata": {
  "anaconda-cloud": {},
  "kernel_info": {
   "name": "python3"
  },
  "kernelspec": {
   "display_name": "Python 3",
   "language": "python",
   "name": "python3"
  },
  "language_info": {
   "codemirror_mode": {
    "name": "ipython",
    "version": 3
   },
   "file_extension": ".py",
   "mimetype": "text/x-python",
   "name": "python",
   "nbconvert_exporter": "python",
   "pygments_lexer": "ipython3",
   "version": "3.7.6"
  },
  "latex_envs": {
   "LaTeX_envs_menu_present": true,
   "autoclose": false,
   "autocomplete": true,
   "bibliofile": "biblio.bib",
   "cite_by": "apalike",
   "current_citInitial": 1,
   "eqLabelWithNumbers": true,
   "eqNumInitial": 1,
   "hotkeys": {
    "equation": "Ctrl-E",
    "itemize": "Ctrl-I"
   },
   "labels_anchors": false,
   "latex_user_defs": false,
   "report_style_numbering": false,
   "user_envs_cfg": false
  },
  "nteract": {
   "version": "0.2.0"
  }
 },
 "nbformat": 4,
 "nbformat_minor": 4
}
